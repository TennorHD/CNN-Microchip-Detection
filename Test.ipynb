{
 "cells": [
  {
   "cell_type": "markdown",
   "metadata": {},
   "source": [
    "# Microchip Classification Testing ipynb"
   ]
  },
  {
   "cell_type": "code",
   "execution_count": 1,
   "metadata": {},
   "outputs": [
    {
     "name": "stderr",
     "output_type": "stream",
     "text": [
      "Using TensorFlow backend.\n"
     ]
    }
   ],
   "source": [
    "import tensorflow as tf\n",
    "import numpy as np # linear algebra\n",
    "import pandas as pd # data processing, CSV file I/O (e.g. pd.read_csv)\n",
    "import matplotlib.pyplot as plt\n",
    "import os # directory\n",
    "import seaborn as sns # plotting\n",
    "\n",
    "from sklearn.metrics import confusion_matrix\n",
    "from scipy import stats # mean calculation\n",
    "from keras.utils.np_utils import to_categorical # to convert labels to one-hot-encoding\n",
    "from PIL import Image"
   ]
  },
  {
   "cell_type": "code",
   "execution_count": 2,
   "metadata": {},
   "outputs": [
    {
     "name": "stdout",
     "output_type": "stream",
     "text": [
      "Imported Test Images of size  (546, 27, 27, 1)  and labels  (546, 4)\n"
     ]
    }
   ],
   "source": [
    "path = './test_images/'\n",
    "\n",
    "def load_image(path):\n",
    "    def readImg(path, n):\n",
    "        im = Image.open(path).convert('L')\n",
    "        im = im.resize((n,n))\n",
    "        return np.array(im)/255.0\n",
    "\n",
    "    all_images = []\n",
    "    all_labels = []\n",
    "    labels_dict = {}\n",
    "\n",
    "    count = 0\n",
    "    size = 27\n",
    "    for label in os.listdir(path):\n",
    "        second_path = path+str(label)+'/'\n",
    "        for img_path in os.listdir(second_path):\n",
    "            if img_path.endswith('.jpg'):\n",
    "                im = readImg(second_path+img_path, size)\n",
    "                all_images.append(im)\n",
    "                all_labels.append(count)\n",
    "        if (count < 3):\n",
    "            labels_dict[count] = label\n",
    "            count += 1\n",
    "        elif (count == 3):\n",
    "            labels_dict[count] = 'Unknown'\n",
    "\n",
    "    all_images = np.reshape(all_images,(-1,27,27,1))\n",
    "\n",
    "    # labels\n",
    "    labels = np.reshape(all_labels, (-1,1))\n",
    "    labels = to_categorical(labels, num_classes = 4) # Label Encoding \n",
    "    \n",
    "    print('Imported Test Images of size ',all_images.shape,' and labels ',labels.shape)\n",
    "    return all_images, labels, labels_dict\n",
    "\n",
    "images, labels, n_classes= load_image(path)"
   ]
  },
  {
   "cell_type": "code",
   "execution_count": 3,
   "metadata": {},
   "outputs": [],
   "source": [
    "class k_CNN():\n",
    "    def __init__(self):\n",
    "        self.models = []\n",
    "        path = './models/a/'\n",
    "        for count in range(1,11):\n",
    "            model = tf.keras.models.load_model(path+'model_10_16_15_{}.h5'.format(count))\n",
    "            self.models.append(model)\n",
    "            \n",
    "    def predict(self, X_test, Y_test):\n",
    "        pred = []\n",
    "        \n",
    "        for model in self.models:\n",
    "            # Predict the values from the validation dataset\n",
    "            Y_pred = model.predict(X_test)\n",
    "            # Convert predictions classes to one hot vectors \n",
    "            Y_pred_classes = np.argmax(Y_pred,axis = 1)\n",
    "            \n",
    "            pred.append(Y_pred_classes)\n",
    "\n",
    "        pred = np.transpose(pred)\n",
    "        pred , _ = stats.mode(pred, axis= 1)\n",
    "\n",
    "        Y_pred = []\n",
    "        for y in pred.tolist():\n",
    "            for z in y:\n",
    "                Y_pred.append(z)\n",
    "                \n",
    "        Y_true = np.argmax(Y_test,axis = 1)\n",
    "            \n",
    "        return Y_true, Y_pred\n",
    "    \n",
    "    def accuracy_test(self, Y_true, Y_pred):\n",
    "        test_accuracy = np.mean(Y_true == Y_pred)\n",
    "        return test_accuracy\n",
    "    \n",
    "    def plot_confusion(self, Y_true, Y_pred):\n",
    "        confusion_mtx = confusion_matrix(Y_true, Y_pred) \n",
    "        # plot the confusion matrix\n",
    "        f,ax = plt.subplots(figsize=(5, 5))\n",
    "        sns.heatmap(confusion_mtx, annot=True, linewidths=0.01,cmap=\"Greens\",linecolor=\"gray\", fmt= '.1f',ax=ax)\n",
    "        plt.xlabel(\"Predicted Label\")\n",
    "        plt.ylabel(\"True Label\")\n",
    "        plt.title(\"Confusion Matrix\")\n",
    "        plt.show()\n",
    "        self.calculate_precision_recall(confusion_mtx)\n",
    "    \n",
    "    def calculate_precision_recall(self, confusion_mtx):\n",
    "        sum_col = np.sum(confusion_mtx, axis = 0)\n",
    "        sum_row = np.sum(confusion_mtx, axis = 1)\n",
    "        result = []\n",
    "        for n in range(len(n_classes)):\n",
    "            TP = confusion_mtx[n][n]\n",
    "            FN = sum_row[n]-TP\n",
    "            FP = sum_col[n]-TP\n",
    "            precision = TP/ (TP+FP)\n",
    "            recall = TP / (TP+FN)\n",
    "            f1score = 2 * ((precision*recall)/(precision+recall))\n",
    "            result.append((n_classes[n],\n",
    "                           precision,\n",
    "                           recall,\n",
    "                           f1score))\n",
    "            print(\"\\n{}:\\nPrecision: {}\\nRecall: {}\\nF1 Score:{}\\n\".format(n_classes[n],\n",
    "                                                                           precision,\n",
    "                                                                           recall,\n",
    "                                                                           f1score))\n",
    "        df = pd.DataFrame(result, columns= ['class', 'precision', 'recall', 'f1score'])\n",
    "        print(df)\n",
    "        df.to_csv('./score{}.csv'.format(round(time.time())), index=False, header=True)\n",
    "    \n",
    "    def test(self, X_test, Y_test):\n",
    "        Y_true, Y_pred = self.predict(X_test, Y_test)\n",
    "        self.plot_confusion(Y_true, Y_pred)\n",
    "        acc = self.accuracy_test(Y_true, Y_pred)\n",
    "        print('\\nTested overall accuracy: ',acc)\n",
    "    \n",
    "model = k_CNN()"
   ]
  },
  {
   "cell_type": "markdown",
   "metadata": {},
   "source": [
    "## Show Testing Result"
   ]
  },
  {
   "cell_type": "code",
   "execution_count": 4,
   "metadata": {
    "scrolled": false
   },
   "outputs": [
    {
     "data": {
      "image/png": "[encoded data removed]",
      "text/plain": [
       "<Figure size 360x360 with 2 Axes>"
      ]
     },
     "metadata": {
      "needs_background": "light"
     },
     "output_type": "display_data"
    },
    {
     "name": "stdout",
     "output_type": "stream",
     "text": [
      "\n",
      "Capacitor:\n",
      "Precision: 0.9759036144578314\n",
      "Recall: 0.9878048780487805\n",
      "F1 Score:0.9818181818181818\n",
      "\n",
      "\n",
      "Resistor:\n",
      "Precision: 0.9646017699115044\n",
      "Recall: 0.990909090909091\n",
      "F1 Score:0.9775784753363229\n",
      "\n",
      "\n",
      "Sot:\n",
      "Precision: 0.9052631578947369\n",
      "Recall: 1.0\n",
      "F1 Score:0.9502762430939227\n",
      "\n",
      "\n",
      "Unknown:\n",
      "Precision: 0.996078431372549\n",
      "Recall: 0.9477611940298507\n",
      "F1 Score:0.97131931166348\n",
      "\n",
      "       class  precision    recall   f1score\n",
      "0  Capacitor   0.975904  0.987805  0.981818\n",
      "1   Resistor   0.964602  0.990909  0.977578\n",
      "2        Sot   0.905263  1.000000  0.950276\n",
      "3    Unknown   0.996078  0.947761  0.971319\n"
     ]
    },
    {
     "ename": "NameError",
     "evalue": "name 'time' is not defined",
     "output_type": "error",
     "traceback": [
      "\u001b[1;31m---------------------------------------------------------------------------\u001b[0m",
      "\u001b[1;31mNameError\u001b[0m                                 Traceback (most recent call last)",
      "\u001b[1;32m<ipython-input-4-5d1b90f464d5>\u001b[0m in \u001b[0;36m<module>\u001b[1;34m\u001b[0m\n\u001b[1;32m----> 1\u001b[1;33m \u001b[0mmodel\u001b[0m\u001b[1;33m.\u001b[0m\u001b[0mtest\u001b[0m\u001b[1;33m(\u001b[0m\u001b[0mimages\u001b[0m\u001b[1;33m,\u001b[0m \u001b[0mlabels\u001b[0m\u001b[1;33m)\u001b[0m\u001b[1;33m\u001b[0m\u001b[1;33m\u001b[0m\u001b[0m\n\u001b[0m",
      "\u001b[1;32m<ipython-input-3-afa3219cda17>\u001b[0m in \u001b[0;36mtest\u001b[1;34m(self, X_test, Y_test)\u001b[0m\n\u001b[0;32m     70\u001b[0m     \u001b[1;32mdef\u001b[0m \u001b[0mtest\u001b[0m\u001b[1;33m(\u001b[0m\u001b[0mself\u001b[0m\u001b[1;33m,\u001b[0m \u001b[0mX_test\u001b[0m\u001b[1;33m,\u001b[0m \u001b[0mY_test\u001b[0m\u001b[1;33m)\u001b[0m\u001b[1;33m:\u001b[0m\u001b[1;33m\u001b[0m\u001b[1;33m\u001b[0m\u001b[0m\n\u001b[0;32m     71\u001b[0m         \u001b[0mY_true\u001b[0m\u001b[1;33m,\u001b[0m \u001b[0mY_pred\u001b[0m \u001b[1;33m=\u001b[0m \u001b[0mself\u001b[0m\u001b[1;33m.\u001b[0m\u001b[0mpredict\u001b[0m\u001b[1;33m(\u001b[0m\u001b[0mX_test\u001b[0m\u001b[1;33m,\u001b[0m \u001b[0mY_test\u001b[0m\u001b[1;33m)\u001b[0m\u001b[1;33m\u001b[0m\u001b[1;33m\u001b[0m\u001b[0m\n\u001b[1;32m---> 72\u001b[1;33m         \u001b[0mself\u001b[0m\u001b[1;33m.\u001b[0m\u001b[0mplot_confusion\u001b[0m\u001b[1;33m(\u001b[0m\u001b[0mY_true\u001b[0m\u001b[1;33m,\u001b[0m \u001b[0mY_pred\u001b[0m\u001b[1;33m)\u001b[0m\u001b[1;33m\u001b[0m\u001b[1;33m\u001b[0m\u001b[0m\n\u001b[0m\u001b[0;32m     73\u001b[0m         \u001b[0macc\u001b[0m \u001b[1;33m=\u001b[0m \u001b[0mself\u001b[0m\u001b[1;33m.\u001b[0m\u001b[0maccuracy_test\u001b[0m\u001b[1;33m(\u001b[0m\u001b[0mY_true\u001b[0m\u001b[1;33m,\u001b[0m \u001b[0mY_pred\u001b[0m\u001b[1;33m)\u001b[0m\u001b[1;33m\u001b[0m\u001b[1;33m\u001b[0m\u001b[0m\n\u001b[0;32m     74\u001b[0m         \u001b[0mprint\u001b[0m\u001b[1;33m(\u001b[0m\u001b[1;34m'\\nTested overall accuracy: '\u001b[0m\u001b[1;33m,\u001b[0m\u001b[0macc\u001b[0m\u001b[1;33m)\u001b[0m\u001b[1;33m\u001b[0m\u001b[1;33m\u001b[0m\u001b[0m\n",
      "\u001b[1;32m<ipython-input-3-afa3219cda17>\u001b[0m in \u001b[0;36mplot_confusion\u001b[1;34m(self, Y_true, Y_pred)\u001b[0m\n\u001b[0;32m     43\u001b[0m         \u001b[0mplt\u001b[0m\u001b[1;33m.\u001b[0m\u001b[0mtitle\u001b[0m\u001b[1;33m(\u001b[0m\u001b[1;34m\"Confusion Matrix\"\u001b[0m\u001b[1;33m)\u001b[0m\u001b[1;33m\u001b[0m\u001b[1;33m\u001b[0m\u001b[0m\n\u001b[0;32m     44\u001b[0m         \u001b[0mplt\u001b[0m\u001b[1;33m.\u001b[0m\u001b[0mshow\u001b[0m\u001b[1;33m(\u001b[0m\u001b[1;33m)\u001b[0m\u001b[1;33m\u001b[0m\u001b[1;33m\u001b[0m\u001b[0m\n\u001b[1;32m---> 45\u001b[1;33m         \u001b[0mself\u001b[0m\u001b[1;33m.\u001b[0m\u001b[0mcalculate_precision_recall\u001b[0m\u001b[1;33m(\u001b[0m\u001b[0mconfusion_mtx\u001b[0m\u001b[1;33m)\u001b[0m\u001b[1;33m\u001b[0m\u001b[1;33m\u001b[0m\u001b[0m\n\u001b[0m\u001b[0;32m     46\u001b[0m \u001b[1;33m\u001b[0m\u001b[0m\n\u001b[0;32m     47\u001b[0m     \u001b[1;32mdef\u001b[0m \u001b[0mcalculate_precision_recall\u001b[0m\u001b[1;33m(\u001b[0m\u001b[0mself\u001b[0m\u001b[1;33m,\u001b[0m \u001b[0mconfusion_mtx\u001b[0m\u001b[1;33m)\u001b[0m\u001b[1;33m:\u001b[0m\u001b[1;33m\u001b[0m\u001b[1;33m\u001b[0m\u001b[0m\n",
      "\u001b[1;32m<ipython-input-3-afa3219cda17>\u001b[0m in \u001b[0;36mcalculate_precision_recall\u001b[1;34m(self, confusion_mtx)\u001b[0m\n\u001b[0;32m     66\u001b[0m         \u001b[0mdf\u001b[0m \u001b[1;33m=\u001b[0m \u001b[0mpd\u001b[0m\u001b[1;33m.\u001b[0m\u001b[0mDataFrame\u001b[0m\u001b[1;33m(\u001b[0m\u001b[0mresult\u001b[0m\u001b[1;33m,\u001b[0m \u001b[0mcolumns\u001b[0m\u001b[1;33m=\u001b[0m \u001b[1;33m[\u001b[0m\u001b[1;34m'class'\u001b[0m\u001b[1;33m,\u001b[0m \u001b[1;34m'precision'\u001b[0m\u001b[1;33m,\u001b[0m \u001b[1;34m'recall'\u001b[0m\u001b[1;33m,\u001b[0m \u001b[1;34m'f1score'\u001b[0m\u001b[1;33m]\u001b[0m\u001b[1;33m)\u001b[0m\u001b[1;33m\u001b[0m\u001b[1;33m\u001b[0m\u001b[0m\n\u001b[0;32m     67\u001b[0m         \u001b[0mprint\u001b[0m\u001b[1;33m(\u001b[0m\u001b[0mdf\u001b[0m\u001b[1;33m)\u001b[0m\u001b[1;33m\u001b[0m\u001b[1;33m\u001b[0m\u001b[0m\n\u001b[1;32m---> 68\u001b[1;33m         \u001b[0mdf\u001b[0m\u001b[1;33m.\u001b[0m\u001b[0mto_csv\u001b[0m\u001b[1;33m(\u001b[0m\u001b[1;34m'./score{}.csv'\u001b[0m\u001b[1;33m.\u001b[0m\u001b[0mformat\u001b[0m\u001b[1;33m(\u001b[0m\u001b[0mround\u001b[0m\u001b[1;33m(\u001b[0m\u001b[0mtime\u001b[0m\u001b[1;33m.\u001b[0m\u001b[0mtime\u001b[0m\u001b[1;33m(\u001b[0m\u001b[1;33m)\u001b[0m\u001b[1;33m)\u001b[0m\u001b[1;33m)\u001b[0m\u001b[1;33m,\u001b[0m \u001b[0mindex\u001b[0m\u001b[1;33m=\u001b[0m\u001b[1;32mFalse\u001b[0m\u001b[1;33m,\u001b[0m \u001b[0mheader\u001b[0m\u001b[1;33m=\u001b[0m\u001b[1;32mTrue\u001b[0m\u001b[1;33m)\u001b[0m\u001b[1;33m\u001b[0m\u001b[1;33m\u001b[0m\u001b[0m\n\u001b[0m\u001b[0;32m     69\u001b[0m \u001b[1;33m\u001b[0m\u001b[0m\n\u001b[0;32m     70\u001b[0m     \u001b[1;32mdef\u001b[0m \u001b[0mtest\u001b[0m\u001b[1;33m(\u001b[0m\u001b[0mself\u001b[0m\u001b[1;33m,\u001b[0m \u001b[0mX_test\u001b[0m\u001b[1;33m,\u001b[0m \u001b[0mY_test\u001b[0m\u001b[1;33m)\u001b[0m\u001b[1;33m:\u001b[0m\u001b[1;33m\u001b[0m\u001b[1;33m\u001b[0m\u001b[0m\n",
      "\u001b[1;31mNameError\u001b[0m: name 'time' is not defined"
     ]
    }
   ],
   "source": [
    "model.test(images, labels)"
   ]
  }
 ],
 "metadata": {
  "kernelspec": {
   "display_name": "Python 3",
   "language": "python",
   "name": "python3"
  },
  "language_info": {
   "codemirror_mode": {
    "name": "ipython",
    "version": 3
   },
   "file_extension": ".py",
   "mimetype": "text/x-python",
   "name": "python",
   "nbconvert_exporter": "python",
   "pygments_lexer": "ipython3",
   "version": "3.7.4"
  }
 },
 "nbformat": 4,
 "nbformat_minor": 2
}
