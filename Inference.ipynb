{
 "cells": [
  {
   "cell_type": "markdown",
   "metadata": {},
   "source": [
    "# Microchip Classification Inferencing ipynb"
   ]
  },
  {
   "cell_type": "code",
   "execution_count": 1,
   "metadata": {},
   "outputs": [
    {
     "name": "stderr",
     "output_type": "stream",
     "text": [
      "Using TensorFlow backend.\n"
     ]
    }
   ],
   "source": [
    "import tensorflow as tf\n",
    "tf.__version__\n",
    "import numpy as np # linear algebra\n",
    "import pandas as pd # data processing, CSV file I/O (e.g. pd.read_csv)\n",
    "import matplotlib.pyplot as plt\n",
    "import os # directory\n",
    "import seaborn as sns # plotting\n",
    "import math\n",
    "import re\n",
    "import time\n",
    "\n",
    "from sklearn.metrics import confusion_matrix\n",
    "from scipy import stats # mean calculation\n",
    "from keras.utils.np_utils import to_categorical # to convert labels to one-hot-encoding\n",
    "from PIL import Image"
   ]
  },
  {
   "cell_type": "code",
   "execution_count": 2,
   "metadata": {},
   "outputs": [],
   "source": [
    "class predictor():\n",
    "    def __init__(self, model_path = './models/a/'):\n",
    "        self.models = []\n",
    "        for count in range(1,11):\n",
    "            model = tf.keras.models.load_model(model_path+'model_10_16_15_{}.h5'.format(count))\n",
    "            self.models.append(model)\n",
    "        self.dic = {0: 'Capacitor', 1: 'Resistor', 2: 'Sot', 3: 'Unknown'}\n",
    "    \n",
    "    def read_img(self, path):\n",
    "        def readImg(path, n=27):\n",
    "            im = Image.open(path)\n",
    "            im = im.resize((n,n))\n",
    "            im_g = im.convert('L')\n",
    "            return np.array(im)/255.0, np.array(im_g)/255.0\n",
    "        \n",
    "        image_count = 0\n",
    "        im_names = []\n",
    "        if path.endswith('.jpg'):\n",
    "            image_count += 1\n",
    "            im, im_g = readImg(path)\n",
    "            im_g = np.reshape(im_g, (-1,27,27,1))\n",
    "            im_names.append(re.split(r'/|\\\\',path)[-1])\n",
    "            return image_count, im_names, im, im_g\n",
    "        else:\n",
    "            lim = []\n",
    "            lim_g = []\n",
    "            for img_path in os.listdir(path):\n",
    "                if img_path.endswith('.jpg'):\n",
    "                    image_count += 1\n",
    "                    im, im_g = readImg(path+'/'+img_path)\n",
    "                    lim.append(im)\n",
    "                    lim_g.append(im_g)\n",
    "                    im_names.append(img_path)\n",
    "            lim_g = np.reshape(lim_g, (-1,27,27,1))\n",
    "            return image_count, im_names, lim, lim_g\n",
    "    \n",
    "    def test(self, path):\n",
    "        pred = []\n",
    "        names = []\n",
    "        image_count, im_names, im, im_g = self.read_img(path)\n",
    "        for model in self.models:\n",
    "            Y_pred = model.predict(im_g)\n",
    "            Y_pred_classes = np.argmax(Y_pred,axis = 1) \n",
    "            pred.append(Y_pred_classes)\n",
    "        pred = np.transpose(pred)\n",
    "        pred , _ = stats.mode(pred, axis= 1)\n",
    "        Y_pred = []\n",
    "        result = []\n",
    "        for y in pred.tolist():\n",
    "            for z in y:\n",
    "                Y_pred.append(z)\n",
    "        if (image_count==1):\n",
    "            plt.imshow(im)\n",
    "            plt.xticks([])\n",
    "            plt.yticks([])\n",
    "            plt.xlabel(self.dic[Y_pred[0]])\n",
    "            plt.show()\n",
    "            result.append((im_names[0],self.dic[Y_pred[0]]))\n",
    "        else:\n",
    "            d = math.ceil(image_count/5)\n",
    "            for i in range(image_count):\n",
    "                result.append((im_names[i],self.dic[Y_pred[i]]))\n",
    "        df = pd.DataFrame(result, columns= ['file name', 'prediction'])\n",
    "        print(df)\n",
    "        if not os.path.exists('./result'):\n",
    "            os.mkdir('./result')\n",
    "        df.to_csv('./result/result_a_{}.csv'.format(round(time.time())), index=False, header=True)\n",
    "        \n",
    "p = predictor()"
   ]
  },
  {
   "cell_type": "markdown",
   "metadata": {},
   "source": [
    "# Examples"
   ]
  },
  {
   "cell_type": "markdown",
   "metadata": {},
   "source": [
    "## Single Prediction"
   ]
  },
  {
   "cell_type": "code",
   "execution_count": 3,
   "metadata": {
    "scrolled": true
   },
   "outputs": [
    {
     "data": {
      "image/png": "[encoded data removed]",
      "text/plain": [
       "<Figure size 432x288 with 1 Axes>"
      ]
     },
     "metadata": {},
     "output_type": "display_data"
    },
    {
     "name": "stdout",
     "output_type": "stream",
     "text": [
      "            file name prediction\n",
      "0  11-0978-01_264.jpg  Capacitor\n"
     ]
    }
   ],
   "source": [
    "p.test('.\\\\Images\\\\Capacitor\\\\11-0978-01_264.jpg')"
   ]
  },
  {
   "cell_type": "markdown",
   "metadata": {},
   "source": [
    "## Multiple Prediction\n",
    "(folder containing all files needed to be predicted)"
   ]
  },
  {
   "cell_type": "code",
   "execution_count": 4,
   "metadata": {
    "scrolled": true
   },
   "outputs": [
    {
     "name": "stdout",
     "output_type": "stream",
     "text": [
      "                     file name prediction\n",
      "0          11-3032-01_4764.jpg  Capacitor\n",
      "1          11-3032-01_4765.jpg  Capacitor\n",
      "2          11-3032-01_4766.jpg  Capacitor\n",
      "3          11-3032-01_4767.jpg  Capacitor\n",
      "4          11-3032-01_4768.jpg  Capacitor\n",
      "5          11-3032-01_4769.jpg  Capacitor\n",
      "6          11-3032-01_4771.jpg  Capacitor\n",
      "7          11-3032-01_4772.jpg  Capacitor\n",
      "8          11-3032-01_4774.jpg  Capacitor\n",
      "9          11-3032-01_4775.jpg  Capacitor\n",
      "10         2113946b04_3968.jpg  Capacitor\n",
      "11         2113946b04_3984.jpg  Capacitor\n",
      "12         2113946e02_4325.jpg  Capacitor\n",
      "13         2113946e02_4343.jpg  Capacitor\n",
      "14         2113946k02_3678.jpg  Capacitor\n",
      "15         2113946k02_3882.jpg  Capacitor\n",
      "16         2113946k02_4178.jpg  Capacitor\n",
      "17         2113946k02_4369.jpg  Capacitor\n",
      "18         2113956a51_3535.jpg  Capacitor\n",
      "19         2113956a51_3536.jpg  Capacitor\n",
      "20         2113956a51_3538.jpg  Capacitor\n",
      "21         2113956a51_3558.jpg  Capacitor\n",
      "22         2113956a51_3575.jpg  Capacitor\n",
      "23  mis5h-x866146-001_5732.jpg  Capacitor\n",
      "24  mis5h-x866146-001_5733.jpg  Capacitor\n",
      "25  mis5h-x866146-001_5773.jpg  Capacitor\n",
      "26  mis5h-x866146-001_5781.jpg  Capacitor\n",
      "27  mis5h-x866146-001_5810.jpg  Capacitor\n",
      "28  mis5h-x866146-001_5811.jpg  Capacitor\n",
      "29  mis5h-x866146-001_5825.jpg  Capacitor\n",
      "30  mis5h-x866146-001_5835.jpg  Capacitor\n",
      "31  mis5h-x866146-001_5836.jpg  Capacitor\n",
      "32  mis5h-x866146-001_5837.jpg  Capacitor\n",
      "33  mis5h-x866146-001_5838.jpg  Capacitor\n",
      "34  mis5h-x866146-001_5839.jpg  Capacitor\n",
      "35  mis5h-x866146-001_5840.jpg  Capacitor\n",
      "36  mis5h-x866146-001_5841.jpg  Capacitor\n"
     ]
    }
   ],
   "source": [
    "path = './Images/Capacitor/Reserved'\n",
    "p.test(path)"
   ]
  }
 ],
 "metadata": {
  "kernelspec": {
   "display_name": "Python 3",
   "language": "python",
   "name": "python3"
  },
  "language_info": {
   "codemirror_mode": {
    "name": "ipython",
    "version": 3
   },
   "file_extension": ".py",
   "mimetype": "text/x-python",
   "name": "python",
   "nbconvert_exporter": "python",
   "pygments_lexer": "ipython3",
   "version": "3.7.4"
  }
 },
 "nbformat": 4,
 "nbformat_minor": 2
}
